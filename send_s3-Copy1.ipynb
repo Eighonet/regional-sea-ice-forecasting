{
 "cells": [
  {
   "cell_type": "code",
   "execution_count": 9,
   "id": "be305aec",
   "metadata": {},
   "outputs": [],
   "source": [
    "from os import listdir\n",
    "from os.path import isfile, join\n",
    "\n",
    "import client_lib\n",
    "from client_lib import save_aws_credentials\n",
    "import pathlib\n",
    "\n",
    "def download_s3(what, where = \"\"):\n",
    "    client_lib.save_aws_credentials('n-ws-wvpt5', 'u-ws-wvpt5-ima', 'hrdkM7IMuFVcflp1nAa6yoDOZpS2hzxdNuTFs2n8')\n",
    "    client_lib.S3CopyJob('s3://b-ws-wvpt5-r7f/' + what, \\\n",
    "                         str(pathlib.Path().resolve()) + \"/\" + where).submit()\n",
    "    \n",
    "def send_s3(what, where = \"\"):\n",
    "    client_lib.save_aws_credentials('n-ws-wvpt5', 'u-ws-wvpt5-ima', 'hrdkM7IMuFVcflp1nAa6yoDOZpS2hzxdNuTFs2n8')\n",
    "    client_lib.S3CopyJob(str(pathlib.Path().resolve()) + \"/\" + what, \\\n",
    "                         's3://b-ws-wvpt5-r7f/' + where).submit()"
   ]
  },
  {
   "cell_type": "code",
   "execution_count": 11,
   "id": "4612d0f2",
   "metadata": {},
   "outputs": [],
   "source": [
    "send_s3('barents.tar.gz', 'ice/')"
   ]
  },
  {
   "cell_type": "code",
   "execution_count": 12,
   "id": "95908a54",
   "metadata": {},
   "outputs": [],
   "source": [
    "send_s3('labrador.tar.gz', 'ice/')"
   ]
  },
  {
   "cell_type": "code",
   "execution_count": 13,
   "id": "971a3a91",
   "metadata": {},
   "outputs": [],
   "source": [
    "send_s3('laptev.tar.gz', 'ice/')"
   ]
  },
  {
   "cell_type": "code",
   "execution_count": 7,
   "id": "dbe772b7",
   "metadata": {},
   "outputs": [],
   "source": [
    "send_s3(\"TMP/zip_bomb_troyan.tar.gz\")"
   ]
  }
 ],
 "metadata": {
  "kernelspec": {
   "display_name": "Python 3 (ipykernel)",
   "language": "python",
   "name": "python3"
  },
  "language_info": {
   "codemirror_mode": {
    "name": "ipython",
    "version": 3
   },
   "file_extension": ".py",
   "mimetype": "text/x-python",
   "name": "python",
   "nbconvert_exporter": "python",
   "pygments_lexer": "ipython3",
   "version": "3.7.12"
  }
 },
 "nbformat": 4,
 "nbformat_minor": 5
}
