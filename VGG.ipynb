{
 "cells": [
  {
   "cell_type": "code",
   "execution_count": 1,
   "id": "9b3c25b3",
   "metadata": {
    "collapsed": true
   },
   "outputs": [
    {
     "name": "stdout",
     "output_type": "stream",
     "text": [
      "Looking in links: https://download.pytorch.org/whl/cu101/torch_stable.html\n",
      "Requirement already satisfied: torch==1.8.0+cu101 in /home/jovyan/.imgenv-bert-large-0/lib/python3.7/site-packages (1.8.0+cu101)\n",
      "Requirement already satisfied: torchvision==0.9.0 in /home/jovyan/.imgenv-bert-large-0/lib/python3.7/site-packages (0.9.0+cu101)\n",
      "Requirement already satisfied: typing-extensions in /home/user/conda/lib/python3.7/site-packages (from torch==1.8.0+cu101) (4.0.1)\n",
      "Requirement already satisfied: numpy in /home/user/conda/lib/python3.7/site-packages (from torch==1.8.0+cu101) (1.21.5)\n",
      "Requirement already satisfied: pillow>=4.1.1 in /home/user/conda/lib/python3.7/site-packages (from torchvision==0.9.0) (9.0.0)\n",
      "Requirement already satisfied: wandb==0.12.1 in /home/jovyan/.imgenv-bert-large-0/lib/python3.7/site-packages (0.12.1)\n",
      "Requirement already satisfied: GitPython>=1.0.0 in /home/user/conda/lib/python3.7/site-packages (from wandb==0.12.1) (3.1.26)\n",
      "Requirement already satisfied: PyYAML in /home/user/conda/lib/python3.7/site-packages (from wandb==0.12.1) (6.0)\n",
      "Requirement already satisfied: psutil>=5.0.0 in /home/user/conda/lib/python3.7/site-packages (from wandb==0.12.1) (5.9.0)\n",
      "Requirement already satisfied: configparser>=3.8.1 in /home/user/conda/lib/python3.7/site-packages (from wandb==0.12.1) (5.2.0)\n",
      "Requirement already satisfied: requests<3,>=2.0.0 in /home/user/conda/lib/python3.7/site-packages (from wandb==0.12.1) (2.27.1)\n",
      "Requirement already satisfied: pathtools in /home/jovyan/.imgenv-bert-large-0/lib/python3.7/site-packages (from wandb==0.12.1) (0.1.2)\n",
      "Requirement already satisfied: Click!=8.0.0,>=7.0 in /home/user/conda/lib/python3.7/site-packages (from wandb==0.12.1) (8.0.3)\n",
      "Requirement already satisfied: shortuuid>=0.5.0 in /home/jovyan/.imgenv-bert-large-0/lib/python3.7/site-packages (from wandb==0.12.1) (1.0.9)\n",
      "Requirement already satisfied: protobuf>=3.12.0 in /home/user/conda/lib/python3.7/site-packages (from wandb==0.12.1) (3.19.3)\n",
      "Requirement already satisfied: subprocess32>=3.5.3 in /home/jovyan/.imgenv-bert-large-0/lib/python3.7/site-packages (from wandb==0.12.1) (3.5.4)\n",
      "Requirement already satisfied: six>=1.13.0 in /home/user/conda/lib/python3.7/site-packages (from wandb==0.12.1) (1.16.0)\n",
      "Requirement already satisfied: docker-pycreds>=0.4.0 in /home/jovyan/.imgenv-bert-large-0/lib/python3.7/site-packages (from wandb==0.12.1) (0.4.0)\n",
      "Requirement already satisfied: sentry-sdk>=1.0.0 in /home/jovyan/.imgenv-bert-large-0/lib/python3.7/site-packages (from wandb==0.12.1) (1.8.0)\n",
      "Requirement already satisfied: promise<3,>=2.0 in /home/jovyan/.imgenv-bert-large-0/lib/python3.7/site-packages (from wandb==0.12.1) (2.3)\n",
      "Requirement already satisfied: python-dateutil>=2.6.1 in /home/user/conda/lib/python3.7/site-packages (from wandb==0.12.1) (2.8.2)\n",
      "Requirement already satisfied: importlib-metadata in /home/user/conda/lib/python3.7/site-packages (from Click!=8.0.0,>=7.0->wandb==0.12.1) (4.10.1)\n",
      "Requirement already satisfied: gitdb<5,>=4.0.1 in /home/user/conda/lib/python3.7/site-packages (from GitPython>=1.0.0->wandb==0.12.1) (4.0.9)\n",
      "Requirement already satisfied: typing-extensions>=3.7.4.3 in /home/user/conda/lib/python3.7/site-packages (from GitPython>=1.0.0->wandb==0.12.1) (4.0.1)\n",
      "Requirement already satisfied: urllib3<1.27,>=1.21.1 in /home/user/conda/lib/python3.7/site-packages (from requests<3,>=2.0.0->wandb==0.12.1) (1.26.8)\n",
      "Requirement already satisfied: certifi>=2017.4.17 in /home/user/conda/lib/python3.7/site-packages (from requests<3,>=2.0.0->wandb==0.12.1) (2021.10.8)\n",
      "Requirement already satisfied: idna<4,>=2.5 in /home/user/conda/lib/python3.7/site-packages (from requests<3,>=2.0.0->wandb==0.12.1) (3.3)\n",
      "Requirement already satisfied: charset-normalizer~=2.0.0 in /home/user/conda/lib/python3.7/site-packages (from requests<3,>=2.0.0->wandb==0.12.1) (2.0.10)\n",
      "Requirement already satisfied: smmap<6,>=3.0.1 in /home/user/conda/lib/python3.7/site-packages (from gitdb<5,>=4.0.1->GitPython>=1.0.0->wandb==0.12.1) (5.0.0)\n",
      "Requirement already satisfied: zipp>=0.5 in /home/user/conda/lib/python3.7/site-packages (from importlib-metadata->Click!=8.0.0,>=7.0->wandb==0.12.1) (3.7.0)\n"
     ]
    }
   ],
   "source": [
    "!pip install -f https://download.pytorch.org/whl/cu101/torch_stable.html torch==1.8.0+cu101 torchvision==0.9.0\n",
    "!pip install wandb==0.12.1"
   ]
  },
  {
   "cell_type": "code",
   "execution_count": 1,
   "id": "3182c9c0",
   "metadata": {},
   "outputs": [],
   "source": [
    "from tqdm import tqdm\n",
    "from os import listdir\n",
    "from random import *\n",
    "seed(0)\n",
    "\n",
    "\n",
    "import pandas as pd\n",
    "\n",
    "from pylab import *\n",
    "\n",
    "import torch\n",
    "import torch.nn as nn\n",
    "import torch.nn.functional as F\n",
    "\n",
    "from torch import optim\n",
    "from torch.utils.data import DataLoader, random_split\n",
    "\n",
    "from sklearn.metrics import mean_absolute_error\n",
    "from sklearn.metrics import mean_squared_error\n",
    "from sklearn.metrics import mean_absolute_percentage_error\n",
    "\n",
    "import wandb\n",
    "\n",
    "device = torch.device('cuda' if torch.cuda.is_available() else 'cpu')\n",
    "device = \"cuda:1\""
   ]
  },
  {
   "cell_type": "markdown",
   "id": "8c407b13",
   "metadata": {},
   "source": [
    "### Data trepanation"
   ]
  },
  {
   "cell_type": "code",
   "execution_count": 2,
   "id": "c60f4e26",
   "metadata": {},
   "outputs": [
    {
     "data": {
      "text/plain": [
       "(1812, 366, 365)"
      ]
     },
     "execution_count": 2,
     "metadata": {},
     "output_type": "execute_result"
    }
   ],
   "source": [
    "dataset = 'barents'\n",
    "folder_train, folder_val, folder_test = dataset + '/train/maps/', dataset + '/valid/maps/', dataset + '/test/maps/'\n",
    "train_files, val_files, test_files = sorted([file for file in listdir(folder_train)])[1346:],\\\n",
    "                                     sorted([file for file in listdir(folder_val)]),\\\n",
    "                                     sorted([file for file in listdir(folder_test)]) # + 1200\n",
    "\n",
    "sample = torch.load(folder_train + train_files[1])\n",
    "grid = torch.load(dataset + \"/train/grid.pt\")\n",
    "coverage = pd.read_csv(dataset + \"/train/coverage.csv\")\n",
    "\n",
    "len(train_files), len(val_files), len(test_files)"
   ]
  },
  {
   "cell_type": "code",
   "execution_count": 3,
   "id": "7ed205ad",
   "metadata": {},
   "outputs": [],
   "source": [
    "def preprocess_image(tensor: torch.Tensor) -> torch.Tensor:\n",
    "    return (torch.nan_to_num(tensor, nan=-10.0) + grid['land']*10)"
   ]
  },
  {
   "cell_type": "code",
   "execution_count": 4,
   "id": "7c436f8b",
   "metadata": {
    "scrolled": true
   },
   "outputs": [
    {
     "name": "stderr",
     "output_type": "stream",
     "text": [
      "100%|██████████| 1812/1812 [00:32<00:00, 56.35it/s]\n",
      "100%|██████████| 366/366 [00:06<00:00, 55.70it/s]\n",
      "100%|██████████| 365/365 [00:06<00:00, 56.78it/s]\n"
     ]
    },
    {
     "data": {
      "text/plain": [
       "torch.Size([1812, 360, 500])"
      ]
     },
     "execution_count": 4,
     "metadata": {},
     "output_type": "execute_result"
    }
   ],
   "source": [
    "images_train = [preprocess_image(torch.load(folder_train + train_files[i])[\"jaxa.sic\"])\\\n",
    "                            for i in tqdm(range(0, len(train_files)))]\n",
    "\n",
    "images_val = [preprocess_image(torch.load(folder_val + val_files[i])[\"jaxa.sic\"])\\\n",
    "                            for i in tqdm(range(0, len(val_files)))]\n",
    "\n",
    "def handler(data: dict):\n",
    "    try:\n",
    "        return data[\"jaxa.sic\"]\n",
    "    except:\n",
    "        return data[\"jaxa.sic_asc\"]\n",
    "    \n",
    "images_test = [preprocess_image(handler(torch.load(folder_test + test_files[i])))\\\n",
    "                            for i in tqdm(range(0, len(test_files)))]\n",
    "\n",
    "images_tensor_train, images_tensor_val, images_tensor_test = torch.stack(images_train).to(device),\\\n",
    "                                                             torch.stack(images_val).to(device),\\\n",
    "                                                             torch.stack(images_test).to(device)\n",
    "images_tensor_train.shape"
   ]
  },
  {
   "cell_type": "code",
   "execution_count": 5,
   "id": "af69d413",
   "metadata": {},
   "outputs": [],
   "source": [
    "def average(data: list) -> float:\n",
    "    return sum(data)/len(data)\n",
    "\n",
    "def load_data(batch_size, images_tensor, d_in, d_out):\n",
    "    in_batch, out_batch = [], []\n",
    "    for i in range(batch_size):\n",
    "        start_point = choice(range(len(images_tensor) - d_in - d_out))\n",
    "        in_batch.append(images_tensor[start_point:start_point+d_in])\n",
    "        out_batch.append(images_tensor[start_point+d_in:start_point+d_in+d_out])\n",
    "    return torch.stack(in_batch), torch.stack(out_batch)\n",
    "\n",
    "def train(model, criterion, d_in, d_out, epochs, batch_size, lr, eval_step):\n",
    "    optimizer = optim.Adam(model.parameters(), lr=lr) #weight_decay=1e-8, momentum=0.9\n",
    "#    scheduler = optim.lr_scheduler.ReduceLROnPlateau(optimizer, 'max', patience=2)  # goal: maximize Dice score\n",
    "#    grad_scaler = torch.cuda.amp.GradScaler(enabled=amp)\n",
    "    for epoch in range(1, epochs+1):\n",
    "#        print(\"Current epoch\", epoch)\n",
    "        model.train()\n",
    "        images_in, images_out = load_data(batch_size, images_tensor_train, d_in, d_out)\n",
    "        optimizer.zero_grad()\n",
    "        model_out = model(images_in)\n",
    "        loss = criterion(model_out, images_out)\n",
    "        loss.backward(retain_graph=True)\n",
    "        optimizer.step()\n",
    "        if epoch % eval_step == 0:\n",
    "            mae_total, rmse_total, mape_total = [], [], []\n",
    "            \n",
    "            total_test_len = len(images_tensor_test)\n",
    "            start_point, steps = 0, int(total_test_len/(d_in + d_out))\n",
    "            \n",
    "            for i in range(steps):\n",
    "                images_in, images_out = images_tensor_test[start_point:start_point+d_in],\\\n",
    "                                        images_tensor_test[start_point+d_in:start_point+d_in+d_out]\n",
    "                \n",
    "                start_point += d_in + d_out\n",
    "            \n",
    "                model_out = model(images_in[None, :, :, :])\n",
    "                \n",
    "                criterion_mse = nn.MSELoss()\n",
    "                \n",
    "                loss_mse = criterion_mse(model_out, images_out[None, :, :, :])\n",
    "                loss_mae = criterion(model_out, images_out[None, :, :, :])\n",
    "                \n",
    "                mae_total.append(loss_mae.detach().cpu().numpy())\n",
    "                rmse_total.append(math.sqrt(loss_mse.detach().cpu().numpy()))\n",
    "                \n",
    "            \n",
    "            wandb.log(\n",
    "                {\n",
    "                 \"test/test_MAE\": average(mae_total), \n",
    "                 \"test/test_RMSE\": average(rmse_total)\n",
    "                }\n",
    "            )\n",
    "            \n",
    "            print('Epoch ', epoch, ', test MAE - ', average(mae_total))"
   ]
  },
  {
   "cell_type": "code",
   "execution_count": 6,
   "id": "eecee361",
   "metadata": {},
   "outputs": [
    {
     "name": "stderr",
     "output_type": "stream",
     "text": [
      "\u001b[34m\u001b[1mwandb\u001b[0m: Currently logged in as: \u001b[33msbercv\u001b[0m (use `wandb login --relogin` to force relogin)\n",
      "\u001b[34m\u001b[1mwandb\u001b[0m: wandb version 0.12.21 is available!  To upgrade, please run:\n",
      "\u001b[34m\u001b[1mwandb\u001b[0m:  $ pip install wandb --upgrade\n",
      "2022-07-25 10:17:49.337534: I tensorflow/stream_executor/platform/default/dso_loader.cc:48] Successfully opened dynamic library libcudart.so.10.1\n"
     ]
    },
    {
     "data": {
      "text/html": [
       "\n",
       "                Tracking run with wandb version 0.12.1<br/>\n",
       "                Syncing run <strong style=\"color:#cdcd00\">grateful-snowball-27</strong> to <a href=\"https://wandb.ai\" target=\"_blank\">Weights & Biases</a> <a href=\"https://docs.wandb.com/integrations/jupyter.html\" target=\"_blank\">(Documentation)</a>.<br/>\n",
       "                Project page: <a href=\"https://wandb.ai/eighonet/SeaIcePrediction\" target=\"_blank\">https://wandb.ai/eighonet/SeaIcePrediction</a><br/>\n",
       "                Run page: <a href=\"https://wandb.ai/eighonet/SeaIcePrediction/runs/1gq494c3\" target=\"_blank\">https://wandb.ai/eighonet/SeaIcePrediction/runs/1gq494c3</a><br/>\n",
       "                Run data is saved locally in <code>/home/jovyan/Ice/wandb/run-20220725_101747-1gq494c3</code><br/><br/>\n",
       "            "
      ],
      "text/plain": [
       "<IPython.core.display.HTML object>"
      ]
     },
     "metadata": {},
     "output_type": "display_data"
    },
    {
     "name": "stderr",
     "output_type": "stream",
     "text": [
      "\u001b[34m\u001b[1mwandb\u001b[0m: \u001b[33mWARNING\u001b[0m Calling run.save without any arguments is deprecated.Changes to attributes are automatically persisted.\n"
     ]
    },
    {
     "data": {
      "text/plain": [
       "True"
      ]
     },
     "execution_count": 6,
     "metadata": {},
     "output_type": "execute_result"
    }
   ],
   "source": [
    "architecture = \"VGG19_default\"\n",
    "i = 0\n",
    "wandb.init(project=\"SeaIcePrediction\", entity=\"eighonet\", group=architecture)\n",
    "wandb.run.name = architecture + \"_\" + str(i)  # \"gs_3_ffd_3_128_test_MAEloss_lr_10^{-4}_10000\"\n",
    "wandb.run.save()"
   ]
  },
  {
   "cell_type": "code",
   "execution_count": 4,
   "id": "90d12c0f",
   "metadata": {},
   "outputs": [],
   "source": [
    "from torchvision import datasets, transforms, models"
   ]
  },
  {
   "cell_type": "code",
   "execution_count": 19,
   "id": "c99aacbf",
   "metadata": {},
   "outputs": [
    {
     "name": "stderr",
     "output_type": "stream",
     "text": [
      "/home/jovyan/.imgenv-pensive-herschel-0/lib/python3.7/site-packages/torchvision/models/_utils.py:223: UserWarning: Arguments other than a weight enum or `None` for 'weights' are deprecated since 0.13 and may be removed in the future. The current behavior is equivalent to passing `weights=None`.\n",
      "  warnings.warn(msg)\n"
     ]
    }
   ],
   "source": [
    "model = models.vgg19(pretrained=False)\n",
    "#model = resnet50()"
   ]
  },
  {
   "cell_type": "code",
   "execution_count": 20,
   "id": "da745377",
   "metadata": {},
   "outputs": [],
   "source": [
    "model.features[0] = nn.Conv2d(7, 64, kernel_size=(7, 7), stride=(2, 2), padding=(3, 3), bias=False)\n",
    "model = torch.nn.Sequential(*(list(model.children())[:-2]))"
   ]
  },
  {
   "cell_type": "code",
   "execution_count": 21,
   "id": "98428969",
   "metadata": {},
   "outputs": [],
   "source": [
    "device = 'cuda'\n",
    "model = model.to(device)"
   ]
  },
  {
   "cell_type": "code",
   "execution_count": 22,
   "id": "d452a0e5",
   "metadata": {
    "scrolled": true
   },
   "outputs": [],
   "source": [
    "test_input = torch.zeros(8, 7, 360, 500).to(device)"
   ]
  },
  {
   "cell_type": "code",
   "execution_count": 23,
   "id": "4e88a6ad",
   "metadata": {},
   "outputs": [
    {
     "data": {
      "text/plain": [
       "torch.Size([8, 512, 5, 7])"
      ]
     },
     "execution_count": 23,
     "metadata": {},
     "output_type": "execute_result"
    }
   ],
   "source": [
    "model(test_input).shape"
   ]
  },
  {
   "cell_type": "code",
   "execution_count": 24,
   "id": "6cd4afc9",
   "metadata": {},
   "outputs": [
    {
     "name": "stdout",
     "output_type": "stream",
     "text": [
      "torch.Size([8, 256, 20, 28])\n",
      "torch.Size([8, 128, 40, 56])\n",
      "torch.Size([8, 3, 360, 500])\n"
     ]
    }
   ],
   "source": [
    "conv_int1 = nn.Conv2d(256, 256, kernel_size=3, padding=1, bias=False).to(device)\n",
    "conv_int2 = nn.Conv2d(128, 128, kernel_size=3, padding=1, bias=False).to(device)\n",
    "\n",
    "up1 = nn.ConvTranspose2d(512, 512 // 2, kernel_size=4, stride=(4,4)).to(device)\n",
    "up2 = nn.ConvTranspose2d(256, 256 // 2, kernel_size=2, stride=(2,2)).to(device)\n",
    "up3 = nn.ConvTranspose2d(128, 128 // 42, kernel_size=(9,5), stride=(9,9)).to(device)\n",
    "\n",
    "#print(resnet152_aug(test_input).shape)\n",
    "print(conv_int1(up1(model(test_input))).shape)\n",
    "#print(up2(up1(model(test_input))).shape)\n",
    "print(conv_int2(up2(up1(model(test_input)))).shape)\n",
    "print(up3(conv_int2(up2(up1(model(test_input))))).shape)\n",
    "#print(up4(up3(conv_int2(up2(up1(model(test_input)))))).shape)\n",
    "#print(up5(up4(up3(up2(up1(model(test_input)))))).shape)\n",
    "#print(up6(up5(up4(up3(up2(up1(model(test_input))))))).shape)"
   ]
  },
  {
   "cell_type": "code",
   "execution_count": 25,
   "id": "6f2e22c3",
   "metadata": {},
   "outputs": [],
   "source": [
    "vgg19_aug = nn.Sequential(\n",
    "    model,\n",
    "    nn.ConvTranspose2d(512, 512 // 2, kernel_size=4, stride=(4,4)),\n",
    "    nn.Conv2d(256, 256, kernel_size=3, padding=1, bias=False),\n",
    "    nn.ReLU(inplace=True),\n",
    "    nn.ConvTranspose2d(256, 256 // 2, kernel_size=2, stride=(2,2)),\n",
    "    nn.Conv2d(128, 128, kernel_size=3, padding=1, bias=False).to(device),\n",
    "    nn.ReLU(inplace=True),\n",
    "    nn.ConvTranspose2d(128, 128 // 42, kernel_size=(9,5), stride=(9,9))\n",
    ").to(device)"
   ]
  },
  {
   "cell_type": "code",
   "execution_count": 26,
   "id": "1f68e052",
   "metadata": {},
   "outputs": [
    {
     "data": {
      "text/plain": [
       "torch.Size([8, 3, 360, 500])"
      ]
     },
     "execution_count": 26,
     "metadata": {},
     "output_type": "execute_result"
    }
   ],
   "source": [
    "vgg19_aug(test_input).shape"
   ]
  },
  {
   "cell_type": "code",
   "execution_count": 27,
   "id": "3fd10a2b",
   "metadata": {},
   "outputs": [],
   "source": [
    "torch.save(vgg19_aug, 'vgg_test.pt')"
   ]
  },
  {
   "cell_type": "code",
   "execution_count": 14,
   "id": "f6ddd999",
   "metadata": {},
   "outputs": [],
   "source": [
    "model.requires_grad = False"
   ]
  },
  {
   "cell_type": "code",
   "execution_count": 17,
   "id": "689be173",
   "metadata": {},
   "outputs": [
    {
     "name": "stdout",
     "output_type": "stream",
     "text": [
      "Epoch  20 , test MAE -  12.69529300265842\n",
      "Epoch  40 , test MAE -  12.684488084581163\n",
      "Epoch  60 , test MAE -  12.67928738064236\n",
      "Epoch  80 , test MAE -  12.676917182074654\n",
      "Epoch  100 , test MAE -  12.67539554172092\n",
      "Epoch  120 , test MAE -  12.67483859592014\n",
      "Epoch  140 , test MAE -  12.674826727973091\n",
      "Epoch  160 , test MAE -  12.674792819552952\n",
      "Epoch  180 , test MAE -  12.674880981445312\n",
      "Epoch  200 , test MAE -  12.674822489420572\n",
      "Epoch  220 , test MAE -  12.674756368001303\n",
      "Epoch  240 , test MAE -  12.6749267578125\n",
      "Epoch  260 , test MAE -  12.674857245551216\n",
      "Epoch  280 , test MAE -  12.674819946289062\n",
      "Epoch  300 , test MAE -  12.674749586317274\n",
      "Epoch  320 , test MAE -  12.674841139051649\n",
      "Epoch  340 , test MAE -  12.674908108181423\n",
      "Epoch  360 , test MAE -  12.674836052788628\n",
      "Epoch  380 , test MAE -  12.674738566080729\n",
      "Epoch  400 , test MAE -  12.674845377604166\n",
      "Epoch  420 , test MAE -  12.674830966525608\n",
      "Epoch  440 , test MAE -  12.674806382921007\n",
      "Epoch  460 , test MAE -  12.67477077907986\n",
      "Epoch  480 , test MAE -  12.674762301974827\n",
      "Epoch  500 , test MAE -  12.674862331814236\n",
      "Epoch  520 , test MAE -  12.674749586317274\n",
      "Epoch  540 , test MAE -  12.674779256184896\n",
      "Epoch  560 , test MAE -  12.674792819552952\n",
      "Epoch  580 , test MAE -  12.674769083658854\n",
      "Epoch  600 , test MAE -  12.674759758843315\n",
      "Epoch  620 , test MAE -  12.674803839789497\n",
      "Epoch  640 , test MAE -  12.674853006998697\n",
      "Epoch  660 , test MAE -  12.67483859592014\n",
      "Epoch  680 , test MAE -  12.674752977159288\n",
      "Epoch  700 , test MAE -  12.67474110921224\n",
      "Epoch  720 , test MAE -  12.674820793999565\n",
      "Epoch  740 , test MAE -  12.674788581000435\n",
      "Epoch  760 , test MAE -  12.674803839789497\n",
      "Epoch  780 , test MAE -  12.674795362684462\n",
      "Epoch  800 , test MAE -  12.674741956922743\n",
      "Epoch  820 , test MAE -  12.674776713053385\n",
      "Epoch  840 , test MAE -  12.674881829155815\n",
      "Epoch  860 , test MAE -  12.674744500054253\n",
      "Epoch  880 , test MAE -  12.674856397840712\n",
      "Epoch  900 , test MAE -  12.674826727973091\n",
      "Epoch  920 , test MAE -  12.674769083658854\n",
      "Epoch  940 , test MAE -  12.674836900499132\n",
      "Epoch  960 , test MAE -  12.674864027235243\n",
      "Epoch  980 , test MAE -  12.674814860026041\n",
      "Epoch  1000 , test MAE -  12.674781799316406\n"
     ]
    }
   ],
   "source": [
    "from models.unet.unet.unet_model import UNet\n",
    "\n",
    "epochs = 1000\n",
    "d_in, d_out = 7, 3\n",
    "batch_size = 8\n",
    "lr = 1e-3\n",
    "eval_step = 20\n",
    "criterion = nn.L1Loss()\n",
    "\n",
    "train(vgg19_aug, criterion, d_in, d_out, epochs, batch_size, lr, eval_step)"
   ]
  },
  {
   "cell_type": "code",
   "execution_count": 91,
   "id": "d02b1ddc",
   "metadata": {},
   "outputs": [
    {
     "name": "stdout",
     "output_type": "stream",
     "text": [
      "Epoch  20 , test MAE -  7.720959133572048\n",
      "Epoch  40 , test MAE -  7.728277418348524\n",
      "Epoch  60 , test MAE -  7.720995585123698\n",
      "Epoch  80 , test MAE -  7.707149081759983\n",
      "Epoch  100 , test MAE -  7.712307400173611\n",
      "Epoch  120 , test MAE -  7.705301072862413\n",
      "Epoch  140 , test MAE -  7.704624599880642\n",
      "Epoch  160 , test MAE -  7.704344007703993\n",
      "Epoch  180 , test MAE -  7.698826260036892\n",
      "Epoch  200 , test MAE -  7.708406236436632\n",
      "Epoch  220 , test MAE -  7.70106675889757\n",
      "Epoch  240 , test MAE -  7.6994069417317705\n",
      "Epoch  260 , test MAE -  7.708365546332465\n",
      "Epoch  280 , test MAE -  7.702963087293837\n",
      "Epoch  300 , test MAE -  7.7069286770290795\n",
      "Epoch  320 , test MAE -  7.7067921956380205\n",
      "Epoch  340 , test MAE -  7.701663547092014\n",
      "Epoch  360 , test MAE -  7.702557881673177\n",
      "Epoch  380 , test MAE -  7.703909132215712\n",
      "Epoch  400 , test MAE -  7.70243665907118\n",
      "Epoch  420 , test MAE -  7.699701097276476\n",
      "Epoch  440 , test MAE -  7.697693718804254\n",
      "Epoch  460 , test MAE -  7.696612040201823\n",
      "Epoch  480 , test MAE -  7.7005564371744795\n",
      "Epoch  500 , test MAE -  7.697256300184462\n",
      "Epoch  520 , test MAE -  7.691119723849827\n",
      "Epoch  540 , test MAE -  7.6935272216796875\n",
      "Epoch  560 , test MAE -  7.693070305718316\n",
      "Epoch  580 , test MAE -  7.6929372151692705\n",
      "Epoch  600 , test MAE -  7.683063083224827\n",
      "Epoch  620 , test MAE -  7.690304226345486\n",
      "Epoch  640 , test MAE -  7.6868336995442705\n",
      "Epoch  660 , test MAE -  7.700135972764757\n",
      "Epoch  680 , test MAE -  7.698365953233507\n",
      "Epoch  700 , test MAE -  7.691605461968316\n",
      "Epoch  720 , test MAE -  7.708998786078559\n",
      "Epoch  740 , test MAE -  7.6977691650390625\n",
      "Epoch  760 , test MAE -  7.693332248263889\n",
      "Epoch  780 , test MAE -  7.688104417588976\n",
      "Epoch  800 , test MAE -  7.684118482801649\n",
      "Epoch  820 , test MAE -  7.696373833550347\n",
      "Epoch  840 , test MAE -  7.6826121012369795\n",
      "Epoch  860 , test MAE -  7.685638427734375\n",
      "Epoch  880 , test MAE -  7.6942859225802955\n",
      "Epoch  900 , test MAE -  7.688143412272136\n",
      "Epoch  920 , test MAE -  7.680784437391493\n",
      "Epoch  940 , test MAE -  7.6874542236328125\n",
      "Epoch  960 , test MAE -  7.692650689019097\n",
      "Epoch  980 , test MAE -  7.684518602159288\n",
      "Epoch  1000 , test MAE -  7.684094746907552\n",
      "Epoch  1020 , test MAE -  7.683347913953993\n",
      "Epoch  1040 , test MAE -  7.681410895453559\n",
      "Epoch  1060 , test MAE -  7.686119079589844\n",
      "Epoch  1080 , test MAE -  7.683010525173611\n",
      "Epoch  1100 , test MAE -  7.678071763780382\n",
      "Epoch  1120 , test MAE -  7.696322123209636\n",
      "Epoch  1140 , test MAE -  7.689286126030816\n",
      "Epoch  1160 , test MAE -  7.676144917805989\n",
      "Epoch  1180 , test MAE -  7.675081888834636\n",
      "Epoch  1200 , test MAE -  7.680810716417101\n",
      "Epoch  1220 , test MAE -  7.677073160807292\n",
      "Epoch  1240 , test MAE -  7.69008043077257\n",
      "Epoch  1260 , test MAE -  7.676368713378906\n",
      "Epoch  1280 , test MAE -  7.666332668728298\n",
      "Epoch  1300 , test MAE -  7.674852159288195\n",
      "Epoch  1320 , test MAE -  7.668619791666667\n",
      "Epoch  1340 , test MAE -  7.673166063096788\n",
      "Epoch  1360 , test MAE -  7.669939676920573\n",
      "Epoch  1380 , test MAE -  7.670190599229601\n",
      "Epoch  1400 , test MAE -  7.6812082926432295\n",
      "Epoch  1420 , test MAE -  7.67391120062934\n",
      "Epoch  1440 , test MAE -  7.673113505045573\n",
      "Epoch  1460 , test MAE -  7.674619886610243\n",
      "Epoch  1480 , test MAE -  7.669609069824219\n",
      "Epoch  1500 , test MAE -  7.677392747667101\n",
      "Epoch  1520 , test MAE -  7.6852976481119795\n",
      "Epoch  1540 , test MAE -  7.68821546766493\n",
      "Epoch  1560 , test MAE -  7.686292012532552\n",
      "Epoch  1580 , test MAE -  7.67323472764757\n",
      "Epoch  1600 , test MAE -  7.671685960557726\n",
      "Epoch  1620 , test MAE -  7.667478773328993\n",
      "Epoch  1640 , test MAE -  7.678382873535156\n",
      "Epoch  1660 , test MAE -  7.668016221788195\n",
      "Epoch  1680 , test MAE -  7.6711781819661455\n",
      "Epoch  1700 , test MAE -  7.686729431152344\n",
      "Epoch  1720 , test MAE -  7.674996270073785\n",
      "Epoch  1740 , test MAE -  7.6854137844509545\n",
      "Epoch  1760 , test MAE -  7.677564832899305\n",
      "Epoch  1780 , test MAE -  7.684594048394097\n",
      "Epoch  1800 , test MAE -  7.6736704508463545\n",
      "Epoch  1820 , test MAE -  7.671046786838108\n",
      "Epoch  1840 , test MAE -  7.6757922702365455\n",
      "Epoch  1860 , test MAE -  7.668510437011719\n",
      "Epoch  1880 , test MAE -  7.669260660807292\n",
      "Epoch  1900 , test MAE -  7.670280456542969\n",
      "Epoch  1920 , test MAE -  7.6702931722005205\n",
      "Epoch  1940 , test MAE -  7.666107177734375\n",
      "Epoch  1960 , test MAE -  7.666922675238715\n",
      "Epoch  1980 , test MAE -  7.674635993109809\n",
      "Epoch  2000 , test MAE -  7.66213141547309\n",
      "Epoch  2020 , test MAE -  7.666737874348958\n",
      "Epoch  2040 , test MAE -  7.665903727213542\n",
      "Epoch  2060 , test MAE -  7.678648206922743\n",
      "Epoch  2080 , test MAE -  7.672198825412327\n",
      "Epoch  2100 , test MAE -  7.675992329915364\n",
      "Epoch  2120 , test MAE -  7.686485290527344\n",
      "Epoch  2140 , test MAE -  7.667067633734809\n",
      "Epoch  2160 , test MAE -  7.674825880262587\n",
      "Epoch  2180 , test MAE -  7.665816413031684\n",
      "Epoch  2200 , test MAE -  7.66642591688368\n",
      "Epoch  2220 , test MAE -  7.667193094889323\n",
      "Epoch  2240 , test MAE -  7.664393954806858\n",
      "Epoch  2260 , test MAE -  7.673689948187934\n",
      "Epoch  2280 , test MAE -  7.686020745171441\n",
      "Epoch  2300 , test MAE -  7.663272433810764\n",
      "Epoch  2320 , test MAE -  7.666619194878472\n",
      "Epoch  2340 , test MAE -  7.673669603135851\n",
      "Epoch  2360 , test MAE -  7.666982014973958\n",
      "Epoch  2380 , test MAE -  7.670377095540364\n"
     ]
    },
    {
     "ename": "KeyboardInterrupt",
     "evalue": "",
     "output_type": "error",
     "traceback": [
      "\u001b[0;31m---------------------------------------------------------------------------\u001b[0m",
      "\u001b[0;31mKeyboardInterrupt\u001b[0m                         Traceback (most recent call last)",
      "\u001b[0;32m/tmp/ipykernel_4324/631790308.py\u001b[0m in \u001b[0;36m<module>\u001b[0;34m\u001b[0m\n\u001b[0;32m----> 1\u001b[0;31m \u001b[0mtrain\u001b[0m\u001b[0;34m(\u001b[0m\u001b[0mvgg19bn_aug\u001b[0m\u001b[0;34m,\u001b[0m \u001b[0mcriterion\u001b[0m\u001b[0;34m,\u001b[0m \u001b[0md_in\u001b[0m\u001b[0;34m,\u001b[0m \u001b[0md_out\u001b[0m\u001b[0;34m,\u001b[0m \u001b[0;36m50000\u001b[0m\u001b[0;34m,\u001b[0m \u001b[0;36m16\u001b[0m\u001b[0;34m,\u001b[0m \u001b[0;36m1e-4\u001b[0m\u001b[0;34m,\u001b[0m \u001b[0meval_step\u001b[0m\u001b[0;34m)\u001b[0m\u001b[0;34m\u001b[0m\u001b[0;34m\u001b[0m\u001b[0m\n\u001b[0m",
      "\u001b[0;32m/tmp/ipykernel_4324/1350230184.py\u001b[0m in \u001b[0;36mtrain\u001b[0;34m(model, criterion, d_in, d_out, epochs, batch_size, lr, eval_step)\u001b[0m\n\u001b[1;32m     21\u001b[0m         \u001b[0mmodel_out\u001b[0m \u001b[0;34m=\u001b[0m \u001b[0mmodel\u001b[0m\u001b[0;34m(\u001b[0m\u001b[0mimages_in\u001b[0m\u001b[0;34m)\u001b[0m\u001b[0;34m\u001b[0m\u001b[0;34m\u001b[0m\u001b[0m\n\u001b[1;32m     22\u001b[0m         \u001b[0mloss\u001b[0m \u001b[0;34m=\u001b[0m \u001b[0mcriterion\u001b[0m\u001b[0;34m(\u001b[0m\u001b[0mmodel_out\u001b[0m\u001b[0;34m,\u001b[0m \u001b[0mimages_out\u001b[0m\u001b[0;34m)\u001b[0m\u001b[0;34m\u001b[0m\u001b[0;34m\u001b[0m\u001b[0m\n\u001b[0;32m---> 23\u001b[0;31m         \u001b[0mloss\u001b[0m\u001b[0;34m.\u001b[0m\u001b[0mbackward\u001b[0m\u001b[0;34m(\u001b[0m\u001b[0mretain_graph\u001b[0m\u001b[0;34m=\u001b[0m\u001b[0;32mTrue\u001b[0m\u001b[0;34m)\u001b[0m\u001b[0;34m\u001b[0m\u001b[0;34m\u001b[0m\u001b[0m\n\u001b[0m\u001b[1;32m     24\u001b[0m         \u001b[0moptimizer\u001b[0m\u001b[0;34m.\u001b[0m\u001b[0mstep\u001b[0m\u001b[0;34m(\u001b[0m\u001b[0;34m)\u001b[0m\u001b[0;34m\u001b[0m\u001b[0;34m\u001b[0m\u001b[0m\n\u001b[1;32m     25\u001b[0m         \u001b[0;32mif\u001b[0m \u001b[0mepoch\u001b[0m \u001b[0;34m%\u001b[0m \u001b[0meval_step\u001b[0m \u001b[0;34m==\u001b[0m \u001b[0;36m0\u001b[0m\u001b[0;34m:\u001b[0m\u001b[0;34m\u001b[0m\u001b[0;34m\u001b[0m\u001b[0m\n",
      "\u001b[0;32m~/.imgenv-bert-large-0/lib/python3.7/site-packages/torch/tensor.py\u001b[0m in \u001b[0;36mbackward\u001b[0;34m(self, gradient, retain_graph, create_graph, inputs)\u001b[0m\n\u001b[1;32m    243\u001b[0m                 \u001b[0mcreate_graph\u001b[0m\u001b[0;34m=\u001b[0m\u001b[0mcreate_graph\u001b[0m\u001b[0;34m,\u001b[0m\u001b[0;34m\u001b[0m\u001b[0;34m\u001b[0m\u001b[0m\n\u001b[1;32m    244\u001b[0m                 inputs=inputs)\n\u001b[0;32m--> 245\u001b[0;31m         \u001b[0mtorch\u001b[0m\u001b[0;34m.\u001b[0m\u001b[0mautograd\u001b[0m\u001b[0;34m.\u001b[0m\u001b[0mbackward\u001b[0m\u001b[0;34m(\u001b[0m\u001b[0mself\u001b[0m\u001b[0;34m,\u001b[0m \u001b[0mgradient\u001b[0m\u001b[0;34m,\u001b[0m \u001b[0mretain_graph\u001b[0m\u001b[0;34m,\u001b[0m \u001b[0mcreate_graph\u001b[0m\u001b[0;34m,\u001b[0m \u001b[0minputs\u001b[0m\u001b[0;34m=\u001b[0m\u001b[0minputs\u001b[0m\u001b[0;34m)\u001b[0m\u001b[0;34m\u001b[0m\u001b[0;34m\u001b[0m\u001b[0m\n\u001b[0m\u001b[1;32m    246\u001b[0m \u001b[0;34m\u001b[0m\u001b[0m\n\u001b[1;32m    247\u001b[0m     \u001b[0;32mdef\u001b[0m \u001b[0mregister_hook\u001b[0m\u001b[0;34m(\u001b[0m\u001b[0mself\u001b[0m\u001b[0;34m,\u001b[0m \u001b[0mhook\u001b[0m\u001b[0;34m)\u001b[0m\u001b[0;34m:\u001b[0m\u001b[0;34m\u001b[0m\u001b[0;34m\u001b[0m\u001b[0m\n",
      "\u001b[0;32m~/.imgenv-bert-large-0/lib/python3.7/site-packages/torch/autograd/__init__.py\u001b[0m in \u001b[0;36mbackward\u001b[0;34m(tensors, grad_tensors, retain_graph, create_graph, grad_variables, inputs)\u001b[0m\n\u001b[1;32m    145\u001b[0m     Variable._execution_engine.run_backward(\n\u001b[1;32m    146\u001b[0m         \u001b[0mtensors\u001b[0m\u001b[0;34m,\u001b[0m \u001b[0mgrad_tensors_\u001b[0m\u001b[0;34m,\u001b[0m \u001b[0mretain_graph\u001b[0m\u001b[0;34m,\u001b[0m \u001b[0mcreate_graph\u001b[0m\u001b[0;34m,\u001b[0m \u001b[0minputs\u001b[0m\u001b[0;34m,\u001b[0m\u001b[0;34m\u001b[0m\u001b[0;34m\u001b[0m\u001b[0m\n\u001b[0;32m--> 147\u001b[0;31m         allow_unreachable=True, accumulate_grad=True)  # allow_unreachable flag\n\u001b[0m\u001b[1;32m    148\u001b[0m \u001b[0;34m\u001b[0m\u001b[0m\n\u001b[1;32m    149\u001b[0m \u001b[0;34m\u001b[0m\u001b[0m\n",
      "\u001b[0;31mKeyboardInterrupt\u001b[0m: "
     ]
    }
   ],
   "source": [
    "train(vgg19bn_aug, criterion, d_in, d_out, 50000, 16, 1e-4, eval_step)"
   ]
  },
  {
   "cell_type": "code",
   "execution_count": null,
   "id": "05c2a85d",
   "metadata": {},
   "outputs": [],
   "source": []
  }
 ],
 "metadata": {
  "kernelspec": {
   "display_name": "Python 3 (ipykernel)",
   "language": "python",
   "name": "python3"
  },
  "language_info": {
   "codemirror_mode": {
    "name": "ipython",
    "version": 3
   },
   "file_extension": ".py",
   "mimetype": "text/x-python",
   "name": "python",
   "nbconvert_exporter": "python",
   "pygments_lexer": "ipython3",
   "version": "3.7.12"
  }
 },
 "nbformat": 4,
 "nbformat_minor": 5
}
